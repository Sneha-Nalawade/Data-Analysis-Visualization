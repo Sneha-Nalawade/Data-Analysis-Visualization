{
  "nbformat": 4,
  "nbformat_minor": 0,
  "metadata": {
    "colab": {
      "provenance": []
    },
    "kernelspec": {
      "name": "python3",
      "display_name": "Python 3"
    },
    "language_info": {
      "name": "python"
    }
  },
  "cells": [
    {
      "cell_type": "markdown",
      "source": [
        "#CS/IT 312 :Data Analytics and Visualization\n",
        "#Assignment 10\n",
        "#Name: Snehal Nalawade\n",
        "#ID: **202151160**"
      ],
      "metadata": {
        "id": "e1Q5YGkpkyZO"
      }
    },
    {
      "cell_type": "code",
      "execution_count": null,
      "metadata": {
        "colab": {
          "base_uri": "https://localhost:8080/"
        },
        "id": "ESV39bJGjvUo",
        "outputId": "9a57d6f3-d61a-4c08-8cfc-3e8ed9406e9a"
      },
      "outputs": [
        {
          "output_type": "stream",
          "name": "stdout",
          "text": [
            "Mounted at /content/drive\n"
          ]
        }
      ],
      "source": [
        "from google.colab import drive\n",
        "drive.mount('/content/drive')"
      ]
    },
    {
      "cell_type": "code",
      "source": [
        "import pandas as pd\n",
        "import numpy as np\n",
        "from scipy.stats import ttest_ind, chi2_contingency"
      ],
      "metadata": {
        "id": "4MyVzDx2jwGd"
      },
      "execution_count": null,
      "outputs": []
    },
    {
      "cell_type": "markdown",
      "source": [
        "# Task 1: Perform t-test on cookie cats data\n",
        "# Load cookie cats data"
      ],
      "metadata": {
        "id": "xGxOHp-oj4n2"
      }
    },
    {
      "cell_type": "code",
      "source": [
        "cookie_cats_df = pd.read_csv(\"/content/drive/MyDrive/DAV sem 6/cookie_cats.csv\")"
      ],
      "metadata": {
        "id": "l9Oc5qczj2Jk"
      },
      "execution_count": null,
      "outputs": []
    },
    {
      "cell_type": "markdown",
      "source": [
        "# Perform t-test"
      ],
      "metadata": {
        "id": "_hQ9LRBRkE33"
      }
    },
    {
      "cell_type": "code",
      "source": [
        "group_a = cookie_cats_df[cookie_cats_df[\"version\"] == \"gate\"][\"sum_gamerounds\"]\n",
        "group_b = cookie_cats_df[cookie_cats_df[\"version\"] == \"no gate\"][\"sum_gamerounds\"]\n",
        "t_statistic, p_value = ttest_ind(group_a, group_b)"
      ],
      "metadata": {
        "id": "xAOP3XfgkCtN"
      },
      "execution_count": null,
      "outputs": []
    },
    {
      "cell_type": "markdown",
      "source": [
        "# Make conclusions from p-value"
      ],
      "metadata": {
        "id": "4iGfmQ5pkJlO"
      }
    },
    {
      "cell_type": "code",
      "source": [
        "alpha = 0.05\n",
        "if p_value < alpha:\n",
        "    conclusion = \"Reject null hypothesis: There is a statistically significant difference between the groups.\"\n",
        "else:\n",
        "    conclusion = \"Fail to reject null hypothesis: There is no statistically significant difference between the groups.\"\n",
        "\n",
        "print(\"Task 1 Conclusion:\", conclusion)"
      ],
      "metadata": {
        "colab": {
          "base_uri": "https://localhost:8080/"
        },
        "id": "xkumkXXTkL3v",
        "outputId": "dbb2b298-2bd0-4ad2-b07f-b0606fdb9cf1"
      },
      "execution_count": null,
      "outputs": [
        {
          "output_type": "stream",
          "name": "stdout",
          "text": [
            "Task 1 Conclusion: Fail to reject null hypothesis: There is no statistically significant difference between the groups.\n"
          ]
        }
      ]
    },
    {
      "cell_type": "markdown",
      "source": [
        "# Task 2: Create contingency table and perform Chi square test on IPL data\n",
        "# Load IPL data"
      ],
      "metadata": {
        "id": "pc0xOOOzkPaV"
      }
    },
    {
      "cell_type": "code",
      "source": [
        "ipl_data_df = pd.read_csv(\"/content/drive/MyDrive/DAV sem 6/IPL_Auction_2022_FullList.csv\")"
      ],
      "metadata": {
        "id": "TI6DB4zjkHVR"
      },
      "execution_count": null,
      "outputs": []
    },
    {
      "cell_type": "markdown",
      "source": [
        "# Create contingency table"
      ],
      "metadata": {
        "id": "w9KZvnopkWTD"
      }
    },
    {
      "cell_type": "code",
      "source": [
        "contingency_table = pd.crosstab(ipl_data_df[\"Specialism\"], ipl_data_df[\"Batting\"])"
      ],
      "metadata": {
        "id": "HR6JJfzEkUNJ"
      },
      "execution_count": null,
      "outputs": []
    },
    {
      "cell_type": "markdown",
      "source": [
        "# Perform Chi square test"
      ],
      "metadata": {
        "id": "zc5FG5Mgkb2t"
      }
    },
    {
      "cell_type": "code",
      "source": [
        "chi2_stat, p_val_chi2, _, _ = chi2_contingency(contingency_table)"
      ],
      "metadata": {
        "id": "BC8LggiikZQt"
      },
      "execution_count": null,
      "outputs": []
    },
    {
      "cell_type": "markdown",
      "source": [
        "# Make conclusions from p-value"
      ],
      "metadata": {
        "id": "HRu3CsLgkhMD"
      }
    },
    {
      "cell_type": "code",
      "source": [
        "if p_val_chi2 < alpha:\n",
        "    conclusion_chi2 = \"Reject null hypothesis: There is an association between Specialism and Batting type.\"\n",
        "else:\n",
        "    conclusion_chi2 = \"Fail to reject null hypothesis: There is no association between Specialism and Batting type.\"\n",
        "\n",
        "print(\"Task 2 Conclusion:\", conclusion_chi2)"
      ],
      "metadata": {
        "colab": {
          "base_uri": "https://localhost:8080/"
        },
        "id": "ombRcJl8kezR",
        "outputId": "86139685-3f5d-47d8-a68e-d2da04c230df"
      },
      "execution_count": null,
      "outputs": [
        {
          "output_type": "stream",
          "name": "stdout",
          "text": [
            "Task 2 Conclusion: Fail to reject null hypothesis: There is no association between Specialism and Batting type.\n"
          ]
        }
      ]
    },
    {
      "cell_type": "code",
      "source": [],
      "metadata": {
        "id": "u7lueuJSkl4f"
      },
      "execution_count": null,
      "outputs": []
    }
  ]
}